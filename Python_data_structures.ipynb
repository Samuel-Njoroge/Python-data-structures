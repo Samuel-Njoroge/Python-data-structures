{
  "nbformat": 4,
  "nbformat_minor": 0,
  "metadata": {
    "colab": {
      "provenance": [],
      "collapsed_sections": [],
      "authorship_tag": "ABX9TyOreIb8P/uA+B9zqf6ioLKq",
      "include_colab_link": true
    },
    "kernelspec": {
      "name": "python3",
      "display_name": "Python 3"
    },
    "language_info": {
      "name": "python"
    }
  },
  "cells": [
    {
      "cell_type": "markdown",
      "metadata": {
        "id": "view-in-github",
        "colab_type": "text"
      },
      "source": [
        "<a href=\"https://colab.research.google.com/github/Samuel-Njoroge/Python-data-structures/blob/main/Python_data_structures.ipynb\" target=\"_parent\"><img src=\"https://colab.research.google.com/assets/colab-badge.svg\" alt=\"Open In Colab\"/></a>"
      ]
    },
    {
      "cell_type": "markdown",
      "source": [
        "# **Python Data Structures.**\n",
        "Data structures are “containers” that organize and group data according to type. The data structures differ based on mutability and order.\n",
        "\n",
        "A) The inbuilt Python Data Structures include :\n",
        "1. List\n",
        "2. Set\n",
        "3. Tuples\n",
        "4. Dictionary.\n",
        "\n",
        "B) User-defined Data Structures\n",
        "1. Stack\n",
        "2. Tree\n",
        "3. Graph\n",
        "4. Linked List\n",
        "5. Graphs\n",
        "6. Hashmap"
      ],
      "metadata": {
        "id": "ELRtOd5QevCF"
      }
    },
    {
      "cell_type": "markdown",
      "source": [
        "# ***1. List***\n",
        "Store data of different data types in a sequential manner."
      ],
      "metadata": {
        "id": "ZYdEqR4kfY7s"
      }
    },
    {
      "cell_type": "code",
      "execution_count": null,
      "metadata": {
        "id": "_Yxa1Y7xlJe4",
        "colab": {
          "base_uri": "https://localhost:8080/"
        },
        "outputId": "6743b94c-ea69-4a66-8ec8-3a115d573150"
      },
      "outputs": [
        {
          "output_type": "execute_result",
          "data": {
            "text/plain": [
              "['Monday', 'Tuesday', 'Wednesday', 'Thursday', 'Friday', 'Saturday', 'Sunday']"
            ]
          },
          "metadata": {},
          "execution_count": 1
        }
      ],
      "source": [
        "#Creating a list\n",
        "#List of days\n",
        "week_days = ['Monday', 'Tuesday', 'Wednesday', 'Thursday', 'Friday', 'Saturday', 'Sunday']\n",
        "week_days"
      ]
    },
    {
      "cell_type": "code",
      "source": [
        "#Accessing items in a list\n",
        "first_day = week_days[0]\n",
        "print(first_day)\n",
        "\n",
        "#Negative Indexing\n",
        "#Last item in the list\n",
        "last_day = week_days[-1] \n",
        "print(last_day)"
      ],
      "metadata": {
        "colab": {
          "base_uri": "https://localhost:8080/"
        },
        "id": "5y8VX9a4er1L",
        "outputId": "ba973dd8-0597-4bbf-b436-1cc05db5c2eb"
      },
      "execution_count": null,
      "outputs": [
        {
          "output_type": "stream",
          "name": "stdout",
          "text": [
            "Monday\n",
            "Sunday\n"
          ]
        }
      ]
    },
    {
      "cell_type": "code",
      "source": [
        "#List Slicing\n",
        "#First three days of the week\n",
        "first_three_days = week_days[:3]\n",
        "print(first_three_days)\n",
        "\n",
        "\n",
        "#Last three days of the week\n",
        "last_three_days = week_days[4:]\n",
        "print(last_three_days)"
      ],
      "metadata": {
        "colab": {
          "base_uri": "https://localhost:8080/"
        },
        "id": "XXffmWW9esJD",
        "outputId": "c0bfb3f6-8c53-4afa-b000-cc42dc9bfd27"
      },
      "execution_count": null,
      "outputs": [
        {
          "output_type": "stream",
          "name": "stdout",
          "text": [
            "['Monday', 'Tuesday', 'Wednesday']\n",
            "['Friday', 'Saturday', 'Sunday']\n"
          ]
        }
      ]
    },
    {
      "cell_type": "code",
      "source": [
        "#Subsetting list\n",
        "#First three days of the week\n",
        "three_middle_days = week_days[2:5]\n",
        "print(three_middle_days)\n",
        "\n",
        "#During subsetting, the last index is read as (-1)"
      ],
      "metadata": {
        "colab": {
          "base_uri": "https://localhost:8080/"
        },
        "id": "N8V9_yYLesLe",
        "outputId": "a9e4df6e-05d5-4f6d-fb22-df0f12dff392"
      },
      "execution_count": null,
      "outputs": [
        {
          "output_type": "stream",
          "name": "stdout",
          "text": [
            "['Wednesday', 'Thursday', 'Friday']\n"
          ]
        }
      ]
    },
    {
      "cell_type": "code",
      "source": [
        "#Lists are mutable (can be reassigned)\n",
        "colors = ['blue', 'red', 'green', 'white']\n",
        "colors = ['yellow', 'pink', 'black', 'orange']\n",
        "print(colors)\n"
      ],
      "metadata": {
        "colab": {
          "base_uri": "https://localhost:8080/"
        },
        "id": "vlTP0LmmesOT",
        "outputId": "89f31b6a-143b-4c30-d7f8-3922800d9b93"
      },
      "execution_count": null,
      "outputs": [
        {
          "output_type": "stream",
          "name": "stdout",
          "text": [
            "['yellow', 'pink', 'black', 'orange']\n"
          ]
        }
      ]
    },
    {
      "cell_type": "code",
      "source": [
        "#  deleting a List\n",
        "del()"
      ],
      "metadata": {
        "id": "AXYUMrb2esXT"
      },
      "execution_count": null,
      "outputs": []
    },
    {
      "cell_type": "code",
      "source": [
        "#Multidimensional lists\n",
        "animals = [['human', 'dog', 'cat'],\n",
        "['lizard', 'snakes', 'crocodile'],\n",
        "['sparrow', 'eagle', 'craw']]\n",
        "print(animals)"
      ],
      "metadata": {
        "colab": {
          "base_uri": "https://localhost:8080/"
        },
        "id": "A0v6JSuOjTVY",
        "outputId": "c0d40dd7-db01-4148-b4a8-5a9dbbc5d036"
      },
      "execution_count": null,
      "outputs": [
        {
          "output_type": "stream",
          "name": "stdout",
          "text": [
            "[['human', 'dog', 'cat'], ['lizard', 'snakes', 'crocodile'], ['sparrow', 'eagle', 'craw']]\n"
          ]
        }
      ]
    },
    {
      "cell_type": "code",
      "source": [
        "#List commprehensions\n",
        "#A way of creating list using for loops\n",
        "\n",
        "even = [2*i for  i in range(1,11)]\n",
        "print(even)"
      ],
      "metadata": {
        "colab": {
          "base_uri": "https://localhost:8080/"
        },
        "id": "JRW4-xiuj8NO",
        "outputId": "5a70572f-e9d6-4c6f-e476-02d7d70bcb35"
      },
      "execution_count": null,
      "outputs": [
        {
          "output_type": "stream",
          "name": "stdout",
          "text": [
            "[2, 4, 6, 8, 10, 12, 14, 16, 18, 20]\n"
          ]
        }
      ]
    },
    {
      "cell_type": "code",
      "source": [
        "#Length\n",
        "len(animals)"
      ],
      "metadata": {
        "colab": {
          "base_uri": "https://localhost:8080/"
        },
        "id": "VnE-4D8Dj8Px",
        "outputId": "45d5e4d8-810e-4088-dd0f-136c37311468"
      },
      "execution_count": null,
      "outputs": [
        {
          "output_type": "execute_result",
          "data": {
            "text/plain": [
              "3"
            ]
          },
          "metadata": {},
          "execution_count": 12
        }
      ]
    },
    {
      "cell_type": "code",
      "source": [
        "#sorting lists\n",
        "colors = ['blue', 'red', 'green', 'white']\n",
        "\n",
        "sorted(colors)"
      ],
      "metadata": {
        "colab": {
          "base_uri": "https://localhost:8080/"
        },
        "id": "im4c-10wkoVr",
        "outputId": "28d5c857-98e9-4dcb-b80e-523b8f681a10"
      },
      "execution_count": null,
      "outputs": [
        {
          "output_type": "execute_result",
          "data": {
            "text/plain": [
              "['blue', 'green', 'red', 'white']"
            ]
          },
          "metadata": {},
          "execution_count": 14
        }
      ]
    },
    {
      "cell_type": "code",
      "source": [
        "num = [1,2,3,4,5]\n",
        "print(sum(num))\n",
        "print(max(num))\n",
        "print(min(num))"
      ],
      "metadata": {
        "colab": {
          "base_uri": "https://localhost:8080/"
        },
        "id": "Z2FlJJmhkodG",
        "outputId": "4f461330-32fb-435b-a827-a981af35bc33"
      },
      "execution_count": null,
      "outputs": [
        {
          "output_type": "stream",
          "name": "stdout",
          "text": [
            "15\n",
            "5\n",
            "1\n"
          ]
        }
      ]
    },
    {
      "cell_type": "code",
      "source": [
        "#Built- in functions\n",
        "#Adding a item to the list\n",
        "#append()\n",
        "num = [1,2,3,4,5]\n",
        "num.append(6)\n",
        "print(num)\n"
      ],
      "metadata": {
        "colab": {
          "base_uri": "https://localhost:8080/"
        },
        "id": "Bfpib_Sjj8Sl",
        "outputId": "f526517c-a1f0-4f5a-b1f8-5e1c0cf383f9"
      },
      "execution_count": null,
      "outputs": [
        {
          "output_type": "stream",
          "name": "stdout",
          "text": [
            "[1, 2, 3, 4, 5, 6]\n"
          ]
        }
      ]
    },
    {
      "cell_type": "code",
      "source": [
        "#insert()\n",
        "num = [1,2,3,4,5]\n",
        "num.insert(5,6) #(insert 6 at index 5 )\n",
        "print(num)\n"
      ],
      "metadata": {
        "colab": {
          "base_uri": "https://localhost:8080/"
        },
        "id": "68K_3bi3j8oS",
        "outputId": "2fbeeaee-508a-42a8-c4ab-a78ce25d095d"
      },
      "execution_count": null,
      "outputs": [
        {
          "output_type": "stream",
          "name": "stdout",
          "text": [
            "[1, 2, 3, 4, 5, 6]\n"
          ]
        }
      ]
    },
    {
      "cell_type": "code",
      "source": [
        "#remove\n",
        "num = [1,2,3,4,5]\n",
        "num.remove(5)\n",
        "print(num)\n"
      ],
      "metadata": {
        "colab": {
          "base_uri": "https://localhost:8080/"
        },
        "id": "9ROABwvEloo5",
        "outputId": "01bd81f6-67ba-4231-b593-a57aecf6050d"
      },
      "execution_count": null,
      "outputs": [
        {
          "output_type": "stream",
          "name": "stdout",
          "text": [
            "[1, 2, 3, 4]\n"
          ]
        }
      ]
    },
    {
      "cell_type": "code",
      "source": [
        "#pop\n",
        "#Removes an element\n",
        "num = [1,2,3,4,5]\n",
        "num.pop(4)\n",
        "print(num)\n"
      ],
      "metadata": {
        "colab": {
          "base_uri": "https://localhost:8080/"
        },
        "id": "KfYi_2gwmfGr",
        "outputId": "14aa4c76-877d-461d-c867-25e9a6d4ef96"
      },
      "execution_count": null,
      "outputs": [
        {
          "output_type": "stream",
          "name": "stdout",
          "text": [
            "[1, 2, 3, 4]\n"
          ]
        }
      ]
    },
    {
      "cell_type": "code",
      "source": [
        "#Arranging items in a list in an order\n",
        "#sort\n",
        "num = [3,5,6,3,4,5]\n",
        "num.sort()\n",
        "print(num)\n"
      ],
      "metadata": {
        "colab": {
          "base_uri": "https://localhost:8080/"
        },
        "id": "CkE8AC2BmfV5",
        "outputId": "198843b5-e854-434c-89c4-21374b9661ec"
      },
      "execution_count": null,
      "outputs": [
        {
          "output_type": "stream",
          "name": "stdout",
          "text": [
            "[3, 3, 4, 5, 5, 6]\n"
          ]
        }
      ]
    },
    {
      "cell_type": "code",
      "source": [
        "#reverse\n",
        "num = [1,2,3,4,5]\n",
        "num.reverse\n",
        "print(num)"
      ],
      "metadata": {
        "colab": {
          "base_uri": "https://localhost:8080/"
        },
        "id": "lzAXTd0KmffB",
        "outputId": "51c3c35f-bc0d-4c78-ccfa-04466a2343b3"
      },
      "execution_count": null,
      "outputs": [
        {
          "output_type": "stream",
          "name": "stdout",
          "text": [
            "[1, 2, 3, 4, 5]\n"
          ]
        }
      ]
    },
    {
      "cell_type": "code",
      "source": [
        "#List Comprehension\n",
        "full_name = []\n",
        "name = 'Samuel Njoroge'\n",
        "for i in full_name:\n",
        "  name.append(i)\n",
        "print(name)"
      ],
      "metadata": {
        "colab": {
          "base_uri": "https://localhost:8080/"
        },
        "id": "JEYkg4zsesZm",
        "outputId": "2606c403-6d1a-4fce-9f5a-5ea8e96fec9e"
      },
      "execution_count": null,
      "outputs": [
        {
          "output_type": "stream",
          "name": "stdout",
          "text": [
            "Samuel Njoroge\n"
          ]
        }
      ]
    },
    {
      "cell_type": "code",
      "source": [
        "import numpy as np\n",
        "number_list = []\n",
        "number = range(10)\n",
        "\n",
        "for i in number:\n",
        "  number_list.append(number)\n",
        "print(number_list) "
      ],
      "metadata": {
        "colab": {
          "base_uri": "https://localhost:8080/"
        },
        "id": "mOfqgxRwescc",
        "outputId": "43b56d53-af9f-4cd4-f1a5-b77141ab7d5c"
      },
      "execution_count": null,
      "outputs": [
        {
          "output_type": "stream",
          "name": "stdout",
          "text": [
            "[range(0, 10), range(0, 10), range(0, 10), range(0, 10), range(0, 10), range(0, 10), range(0, 10), range(0, 10), range(0, 10), range(0, 10)]\n"
          ]
        }
      ]
    },
    {
      "cell_type": "markdown",
      "source": [
        "*Lambda Expressions.*"
      ],
      "metadata": {
        "id": "-vw11qexesrJ"
      }
    },
    {
      "cell_type": "markdown",
      "source": [
        "*The array Module*\n",
        "\n",
        "Array is a collection of type of values,"
      ],
      "metadata": {
        "id": "9vng7AMxest6"
      }
    },
    {
      "cell_type": "code",
      "source": [
        "my_array = ['Sam', 'Njoroge']\n",
        "print(my_array)"
      ],
      "metadata": {
        "colab": {
          "base_uri": "https://localhost:8080/"
        },
        "id": "_FbGhgbPsH3v",
        "outputId": "674de689-aeef-4dd0-a7f5-635fa0808ea3"
      },
      "execution_count": null,
      "outputs": [
        {
          "output_type": "stream",
          "name": "stdout",
          "text": [
            "['Sam', 'Njoroge']\n"
          ]
        }
      ]
    },
    {
      "cell_type": "code",
      "source": [
        "#array.append()\n",
        "#Appends an item to the array\n",
        "my_array = ['Sam', 'Njoroge',]\n",
        "my_array.append('K')\n",
        "print(my_array)"
      ],
      "metadata": {
        "colab": {
          "base_uri": "https://localhost:8080/"
        },
        "id": "zs-vY8RNsXNE",
        "outputId": "d374c425-601a-4a0d-a09b-605ffee8db77"
      },
      "execution_count": null,
      "outputs": [
        {
          "output_type": "stream",
          "name": "stdout",
          "text": [
            "['Sam', 'Njoroge', 'K']\n"
          ]
        }
      ]
    },
    {
      "cell_type": "code",
      "source": [
        "#array.buffer_info() - Returns tupple of address in memory and length of elements in buffer\n",
        "my_array = ['Sam', 'Njoroge']\n",
        "print(my_array)"
      ],
      "metadata": {
        "id": "EkG-RwsWsXbo"
      },
      "execution_count": null,
      "outputs": []
    },
    {
      "cell_type": "markdown",
      "source": [
        "# ***2. Tuples***\n",
        "\n",
        "Immutable.\n",
        "Contains different types of items"
      ],
      "metadata": {
        "id": "2JZ4JQsotlAD"
      }
    },
    {
      "cell_type": "code",
      "source": [
        "my_tupple = (1, 2, 3, 4, 5)\n",
        "print(my_tupple)"
      ],
      "metadata": {
        "colab": {
          "base_uri": "https://localhost:8080/"
        },
        "id": "cCmSpYlYsX1P",
        "outputId": "30f447ff-8cf7-475d-a88e-04aba8644c3d"
      },
      "execution_count": null,
      "outputs": [
        {
          "output_type": "stream",
          "name": "stdout",
          "text": [
            "(1, 2, 3, 4, 5)\n"
          ]
        }
      ]
    },
    {
      "cell_type": "code",
      "source": [],
      "metadata": {
        "id": "Asaxn6cCsGkg"
      },
      "execution_count": null,
      "outputs": []
    },
    {
      "cell_type": "markdown",
      "source": [
        "*List vs Tuple *\n",
        "\n",
        "A list is a collection of values that may be different \n",
        "\n",
        "List \n",
        "1. Mutable (Items can be changed/ reassigned)\n",
        "2. Homogenous\n",
        "3. Dynamic\n",
        "4. Slower\n",
        "5. Can't be used as dictionary keys\n",
        "\n",
        "A  tuple is immutable and a collection of items that may be different.\n",
        "\n",
        "1. Immutable (Items cannot be changed)\n",
        "2. Heterogenous\n",
        "3. Fixed size\n",
        "4. Faster\n",
        "5. Can be used as dictionary keys"
      ],
      "metadata": {
        "id": "gO6eQpyjzWcH"
      }
    },
    {
      "cell_type": "markdown",
      "source": [
        "*Slicing*"
      ],
      "metadata": {
        "id": "P-OB_JhMyCfd"
      }
    },
    {
      "cell_type": "code",
      "source": [
        "#Slicing in lists\n",
        "list= [1,2,3,4,5,6,7,8,9,10]\n",
        "list[1:5]"
      ],
      "metadata": {
        "colab": {
          "base_uri": "https://localhost:8080/"
        },
        "id": "QYM5b6QvyHc5",
        "outputId": "482c8118-7d93-4e72-8aa4-785deec0dacc"
      },
      "execution_count": 4,
      "outputs": [
        {
          "output_type": "execute_result",
          "data": {
            "text/plain": [
              "[2, 3, 4, 5]"
            ]
          },
          "metadata": {},
          "execution_count": 4
        }
      ]
    },
    {
      "cell_type": "code",
      "source": [
        "#Slicing in tuples\n",
        "t = (1,2,3,4,5)\n",
        "t[slice(2,4)]"
      ],
      "metadata": {
        "colab": {
          "base_uri": "https://localhost:8080/"
        },
        "id": "Z0DCkv7kyHfm",
        "outputId": "a608817b-6100-4224-86d7-30fb4468434e"
      },
      "execution_count": 5,
      "outputs": [
        {
          "output_type": "execute_result",
          "data": {
            "text/plain": [
              "(3, 4)"
            ]
          },
          "metadata": {},
          "execution_count": 5
        }
      ]
    },
    {
      "cell_type": "code",
      "source": [
        "#Binary Sequences\n",
        "msg = 'Hello world'\n",
        "arr = bytes(msg, 'utf-8')\n",
        "bytes(7)"
      ],
      "metadata": {
        "colab": {
          "base_uri": "https://localhost:8080/"
        },
        "id": "BUn8rzTayHiP",
        "outputId": "d04084ce-57dc-42b6-e76b-aef5d94810e6"
      },
      "execution_count": 9,
      "outputs": [
        {
          "output_type": "execute_result",
          "data": {
            "text/plain": [
              "b'\\x00\\x00\\x00\\x00\\x00\\x00\\x00'"
            ]
          },
          "metadata": {},
          "execution_count": 9
        }
      ]
    },
    {
      "cell_type": "markdown",
      "source": [
        "# *3. Dictionaries.*\n",
        "\n",
        "Holds key-value pairs\n",
        "\n",
        "Separates the keys from the values with a colon (:) 'name': 'sam'"
      ],
      "metadata": {
        "id": "i67_OJwhzWn0"
      }
    },
    {
      "cell_type": "code",
      "source": [
        "cars = {\n",
        "    'ferrari': 'Italy',\n",
        "    'BMW': 'Germany',\n",
        "    'Jaguar': 'Britain',\n",
        "    'Subaru': 'Japan'\n",
        "    }\n",
        "print(cars['Subaru'])\n",
        "print(len(cars))\n",
        "print(sorted(cars))"
      ],
      "metadata": {
        "colab": {
          "base_uri": "https://localhost:8080/"
        },
        "id": "NpUkHxOC3ebV",
        "outputId": "954929c0-2630-49c7-cf3f-ad7bf8bb23f4"
      },
      "execution_count": 16,
      "outputs": [
        {
          "output_type": "stream",
          "name": "stdout",
          "text": [
            "Japan\n",
            "4\n",
            "['BMW', 'Jaguar', 'Subaru', 'ferrari']\n"
          ]
        }
      ]
    },
    {
      "cell_type": "code",
      "source": [
        "cars.keys()"
      ],
      "metadata": {
        "colab": {
          "base_uri": "https://localhost:8080/"
        },
        "id": "v6gxg_nX3nxy",
        "outputId": "ec911c0c-be3f-48c9-8cce-c02d07adbc75"
      },
      "execution_count": 17,
      "outputs": [
        {
          "output_type": "execute_result",
          "data": {
            "text/plain": [
              "dict_keys(['ferrari', 'BMW', 'Jaguar', 'Subaru'])"
            ]
          },
          "metadata": {},
          "execution_count": 17
        }
      ]
    },
    {
      "cell_type": "code",
      "source": [
        "cars.items()"
      ],
      "metadata": {
        "colab": {
          "base_uri": "https://localhost:8080/"
        },
        "id": "KV5OYZQE3n05",
        "outputId": "973db48c-18d6-44b3-b9e5-8137cb0a32be"
      },
      "execution_count": 18,
      "outputs": [
        {
          "output_type": "execute_result",
          "data": {
            "text/plain": [
              "dict_items([('ferrari', 'Italy'), ('BMW', 'Germany'), ('Jaguar', 'Britain'), ('Subaru', 'Japan')])"
            ]
          },
          "metadata": {},
          "execution_count": 18
        }
      ]
    },
    {
      "cell_type": "code",
      "source": [
        "cars.get(3,0)"
      ],
      "metadata": {
        "colab": {
          "base_uri": "https://localhost:8080/"
        },
        "id": "tPRfTCsw3oDB",
        "outputId": "891ebb3a-e400-406f-bf9f-34234902194b"
      },
      "execution_count": 19,
      "outputs": [
        {
          "output_type": "execute_result",
          "data": {
            "text/plain": [
              "0"
            ]
          },
          "metadata": {},
          "execution_count": 19
        }
      ]
    },
    {
      "cell_type": "code",
      "source": [
        "cars1 = cars.copy()\n",
        "print(cars1)"
      ],
      "metadata": {
        "colab": {
          "base_uri": "https://localhost:8080/"
        },
        "id": "V-2-8NUc3oOB",
        "outputId": "d3d17351-b92c-4f0e-812f-dd30c4f5085f"
      },
      "execution_count": 20,
      "outputs": [
        {
          "output_type": "stream",
          "name": "stdout",
          "text": [
            "{'ferrari': 'Italy', 'BMW': 'Germany', 'Jaguar': 'Britain', 'Subaru': 'Japan'}\n"
          ]
        }
      ]
    },
    {
      "cell_type": "code",
      "source": [
        "cars.pop('ferrari')\n",
        "print(cars)"
      ],
      "metadata": {
        "colab": {
          "base_uri": "https://localhost:8080/"
        },
        "id": "gKutlFCN3oek",
        "outputId": "bd0ae440-ae7c-45fb-cea5-49fef526ebc4"
      },
      "execution_count": 21,
      "outputs": [
        {
          "output_type": "stream",
          "name": "stdout",
          "text": [
            "{'BMW': 'Germany', 'Jaguar': 'Britain', 'Subaru': 'Japan'}\n"
          ]
        }
      ]
    },
    {
      "cell_type": "code",
      "source": [
        "\n",
        "cars.update(cars1)\n",
        "print(cars1)"
      ],
      "metadata": {
        "colab": {
          "base_uri": "https://localhost:8080/"
        },
        "id": "znaHkaQI3opP",
        "outputId": "87f3c399-b8c5-4760-9072-2cfe043388da"
      },
      "execution_count": 22,
      "outputs": [
        {
          "output_type": "stream",
          "name": "stdout",
          "text": [
            "{'ferrari': 'Italy', 'BMW': 'Germany', 'Jaguar': 'Britain', 'Subaru': 'Japan'}\n"
          ]
        }
      ]
    },
    {
      "cell_type": "markdown",
      "source": [
        "# *4. Sets*\n",
        "\n",
        "A collection of unique values and don't support indexing.\n",
        "\n",
        "Mutable , Can't delete using index"
      ],
      "metadata": {
        "id": "uAm7od6yyCcK"
      }
    },
    {
      "cell_type": "code",
      "source": [
        "#Updating sets\n",
        "days = {'Monday', 'Tuesday', 'Wednesday', 'Thursday', 'Friday'}"
      ],
      "metadata": {
        "id": "wfpVGan03o9D"
      },
      "execution_count": 23,
      "outputs": []
    },
    {
      "cell_type": "code",
      "source": [],
      "metadata": {
        "id": "Tjsa3ki_iHu2"
      },
      "execution_count": null,
      "outputs": []
    },
    {
      "cell_type": "code",
      "source": [
        "len(days)"
      ],
      "metadata": {
        "colab": {
          "base_uri": "https://localhost:8080/"
        },
        "id": "YXW_HN3KB0z4",
        "outputId": "bc9c6e3f-4200-4878-f94a-cb1af837941e"
      },
      "execution_count": 24,
      "outputs": [
        {
          "output_type": "execute_result",
          "data": {
            "text/plain": [
              "5"
            ]
          },
          "metadata": {},
          "execution_count": 24
        }
      ]
    },
    {
      "cell_type": "code",
      "source": [
        "max(days)"
      ],
      "metadata": {
        "colab": {
          "base_uri": "https://localhost:8080/",
          "height": 35
        },
        "id": "msmouV4MB_c6",
        "outputId": "2a0ff47d-8d7b-45dc-df39-912ca657de8e"
      },
      "execution_count": 25,
      "outputs": [
        {
          "output_type": "execute_result",
          "data": {
            "text/plain": [
              "'Wednesday'"
            ],
            "application/vnd.google.colaboratory.intrinsic+json": {
              "type": "string"
            }
          },
          "metadata": {},
          "execution_count": 25
        }
      ]
    },
    {
      "cell_type": "code",
      "source": [
        "min(days)"
      ],
      "metadata": {
        "colab": {
          "base_uri": "https://localhost:8080/",
          "height": 35
        },
        "id": "8yBvySLGB_f7",
        "outputId": "302ab7b7-90e8-44a4-857b-1f6dac89ac66"
      },
      "execution_count": 26,
      "outputs": [
        {
          "output_type": "execute_result",
          "data": {
            "text/plain": [
              "'Friday'"
            ],
            "application/vnd.google.colaboratory.intrinsic+json": {
              "type": "string"
            }
          },
          "metadata": {},
          "execution_count": 26
        }
      ]
    },
    {
      "cell_type": "code",
      "source": [
        "sum()"
      ],
      "metadata": {
        "id": "5F4wpxPkCEWc"
      },
      "execution_count": null,
      "outputs": []
    },
    {
      "cell_type": "code",
      "source": [
        "#Returns if even one item in the set has a True value\n",
        "any( )"
      ],
      "metadata": {
        "id": "d7539CfZCEZc"
      },
      "execution_count": 30,
      "outputs": []
    }
  ]
}